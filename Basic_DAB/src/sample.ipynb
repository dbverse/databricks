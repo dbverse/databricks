{
 "cells": [
  {
   "cell_type": "code",
   "execution_count": null,
   "id": "9425d2b9",
   "metadata": {},
   "outputs": [],
   "source": [
    "print(\"Executing notebook in Databricks serverless environment through Asset Bundles\")"
   ]
  },
  {
   "cell_type": "code",
   "execution_count": null,
   "id": "b8f04e14",
   "metadata": {},
   "outputs": [],
   "source": [
    "process_date = dbutils.widgets.get(\"process_date\")  "
   ]
  },
  {
   "cell_type": "code",
   "execution_count": null,
   "id": "3696bd3a",
   "metadata": {},
   "outputs": [],
   "source": [
    "print(f\"Notebook started with process_date: {process_date}\")"
   ]
  }
 ],
 "metadata": {
  "language_info": {
   "name": "python"
  }
 },
 "nbformat": 4,
 "nbformat_minor": 5
}
